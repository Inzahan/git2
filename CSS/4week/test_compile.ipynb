{
 "cells": [
  {
   "cell_type": "code",
   "execution_count": 5,
   "metadata": {},
   "outputs": [],
   "source": [
    "s=open('test.py').read()"
   ]
  },
  {
   "cell_type": "code",
   "execution_count": 6,
   "metadata": {},
   "outputs": [
    {
     "data": {
      "text/plain": [
       "'def func(a, b):\\n    return a+b\\n\\na = 10\\nb = 20\\nc = func(a, b)\\nprint(c)\\n'"
      ]
     },
     "execution_count": 6,
     "metadata": {},
     "output_type": "execute_result"
    }
   ],
   "source": [
    "s #문자열"
   ]
  },
  {
   "cell_type": "code",
   "execution_count": 8,
   "metadata": {},
   "outputs": [],
   "source": [
    "code=compile(s, 'test.py', 'exec')"
   ]
  },
  {
   "cell_type": "code",
   "execution_count": 9,
   "metadata": {},
   "outputs": [
    {
     "data": {
      "text/plain": [
       "<code object <module> at 0x1052c71e0, file \"test.py\", line 1>"
      ]
     },
     "execution_count": 9,
     "metadata": {},
     "output_type": "execute_result"
    }
   ],
   "source": [
    "code #문자열 s -> bytecode"
   ]
  },
  {
   "cell_type": "code",
   "execution_count": 10,
   "metadata": {},
   "outputs": [
    {
     "name": "stdout",
     "output_type": "stream",
     "text": [
      "30\n"
     ]
    }
   ],
   "source": [
    "exec(code)"
   ]
  },
  {
   "cell_type": "code",
   "execution_count": 11,
   "metadata": {},
   "outputs": [
    {
     "data": {
      "text/plain": [
       "{0: 'ENDMARKER',\n",
       " 1: 'NAME',\n",
       " 2: 'NUMBER',\n",
       " 3: 'STRING',\n",
       " 4: 'NEWLINE',\n",
       " 5: 'INDENT',\n",
       " 6: 'DEDENT',\n",
       " 7: 'LPAR',\n",
       " 8: 'RPAR',\n",
       " 9: 'LSQB',\n",
       " 10: 'RSQB',\n",
       " 11: 'COLON',\n",
       " 12: 'COMMA',\n",
       " 13: 'SEMI',\n",
       " 14: 'PLUS',\n",
       " 15: 'MINUS',\n",
       " 16: 'STAR',\n",
       " 17: 'SLASH',\n",
       " 18: 'VBAR',\n",
       " 19: 'AMPER',\n",
       " 20: 'LESS',\n",
       " 21: 'GREATER',\n",
       " 22: 'EQUAL',\n",
       " 23: 'DOT',\n",
       " 24: 'PERCENT',\n",
       " 25: 'LBRACE',\n",
       " 26: 'RBRACE',\n",
       " 27: 'EQEQUAL',\n",
       " 28: 'NOTEQUAL',\n",
       " 29: 'LESSEQUAL',\n",
       " 30: 'GREATEREQUAL',\n",
       " 31: 'TILDE',\n",
       " 32: 'CIRCUMFLEX',\n",
       " 33: 'LEFTSHIFT',\n",
       " 34: 'RIGHTSHIFT',\n",
       " 35: 'DOUBLESTAR',\n",
       " 36: 'PLUSEQUAL',\n",
       " 37: 'MINEQUAL',\n",
       " 38: 'STAREQUAL',\n",
       " 39: 'SLASHEQUAL',\n",
       " 40: 'PERCENTEQUAL',\n",
       " 41: 'AMPEREQUAL',\n",
       " 42: 'VBAREQUAL',\n",
       " 43: 'CIRCUMFLEXEQUAL',\n",
       " 44: 'LEFTSHIFTEQUAL',\n",
       " 45: 'RIGHTSHIFTEQUAL',\n",
       " 46: 'DOUBLESTAREQUAL',\n",
       " 47: 'DOUBLESLASH',\n",
       " 48: 'DOUBLESLASHEQUAL',\n",
       " 49: 'AT',\n",
       " 50: 'ATEQUAL',\n",
       " 51: 'RARROW',\n",
       " 52: 'ELLIPSIS',\n",
       " 53: 'OP',\n",
       " 54: 'ERRORTOKEN',\n",
       " 55: 'COMMENT',\n",
       " 56: 'NL',\n",
       " 57: 'ENCODING',\n",
       " 58: 'COMMENT',\n",
       " 256: 'NT_OFFSET',\n",
       " 59: 'NL',\n",
       " 60: 'ENCODING'}"
      ]
     },
     "execution_count": 11,
     "metadata": {},
     "output_type": "execute_result"
    }
   ],
   "source": [
    "import token\n",
    "token.tok_name"
   ]
  },
  {
   "cell_type": "code",
   "execution_count": 12,
   "metadata": {},
   "outputs": [],
   "source": [
    "import tokenize"
   ]
  },
  {
   "cell_type": "code",
   "execution_count": 15,
   "metadata": {},
   "outputs": [],
   "source": [
    "from io import BytesIO"
   ]
  },
  {
   "cell_type": "code",
   "execution_count": 16,
   "metadata": {},
   "outputs": [],
   "source": [
    "g=tokenize.tokenize(BytesIO(s.encode('utf-8')).readline)"
   ]
  },
  {
   "cell_type": "code",
   "execution_count": 17,
   "metadata": {},
   "outputs": [
    {
     "data": {
      "text/plain": [
       "TokenInfo(type=57 (ENCODING), string='utf-8', start=(0, 0), end=(0, 0), line='')"
      ]
     },
     "execution_count": 17,
     "metadata": {},
     "output_type": "execute_result"
    }
   ],
   "source": [
    "next(g)"
   ]
  },
  {
   "cell_type": "code",
   "execution_count": 18,
   "metadata": {},
   "outputs": [
    {
     "data": {
      "text/plain": [
       "TokenInfo(type=1 (NAME), string='def', start=(1, 0), end=(1, 3), line='def func(a, b):\\n')"
      ]
     },
     "execution_count": 18,
     "metadata": {},
     "output_type": "execute_result"
    }
   ],
   "source": [
    "next(g)"
   ]
  },
  {
   "cell_type": "code",
   "execution_count": 20,
   "metadata": {},
   "outputs": [
    {
     "data": {
      "text/plain": [
       "TokenInfo(type=1 (NAME), string='func', start=(1, 4), end=(1, 8), line='def func(a, b):\\n')"
      ]
     },
     "execution_count": 20,
     "metadata": {},
     "output_type": "execute_result"
    }
   ],
   "source": [
    "next(g)"
   ]
  },
  {
   "cell_type": "code",
   "execution_count": 21,
   "metadata": {},
   "outputs": [
    {
     "name": "stdout",
     "output_type": "stream",
     "text": [
      "TokenInfo(type=53 (OP), string='(', start=(1, 8), end=(1, 9), line='def func(a, b):\\n')\n",
      "TokenInfo(type=1 (NAME), string='a', start=(1, 9), end=(1, 10), line='def func(a, b):\\n')\n",
      "TokenInfo(type=53 (OP), string=',', start=(1, 10), end=(1, 11), line='def func(a, b):\\n')\n",
      "TokenInfo(type=1 (NAME), string='b', start=(1, 12), end=(1, 13), line='def func(a, b):\\n')\n",
      "TokenInfo(type=53 (OP), string=')', start=(1, 13), end=(1, 14), line='def func(a, b):\\n')\n",
      "TokenInfo(type=53 (OP), string=':', start=(1, 14), end=(1, 15), line='def func(a, b):\\n')\n",
      "TokenInfo(type=4 (NEWLINE), string='\\n', start=(1, 15), end=(1, 16), line='def func(a, b):\\n')\n",
      "TokenInfo(type=5 (INDENT), string='    ', start=(2, 0), end=(2, 4), line='    return a+b\\n')\n",
      "TokenInfo(type=1 (NAME), string='return', start=(2, 4), end=(2, 10), line='    return a+b\\n')\n",
      "TokenInfo(type=1 (NAME), string='a', start=(2, 11), end=(2, 12), line='    return a+b\\n')\n",
      "TokenInfo(type=53 (OP), string='+', start=(2, 12), end=(2, 13), line='    return a+b\\n')\n",
      "TokenInfo(type=1 (NAME), string='b', start=(2, 13), end=(2, 14), line='    return a+b\\n')\n",
      "TokenInfo(type=4 (NEWLINE), string='\\n', start=(2, 14), end=(2, 15), line='    return a+b\\n')\n",
      "TokenInfo(type=56 (NL), string='\\n', start=(3, 0), end=(3, 1), line='\\n')\n",
      "TokenInfo(type=6 (DEDENT), string='', start=(4, 0), end=(4, 0), line='a = 10\\n')\n",
      "TokenInfo(type=1 (NAME), string='a', start=(4, 0), end=(4, 1), line='a = 10\\n')\n",
      "TokenInfo(type=53 (OP), string='=', start=(4, 2), end=(4, 3), line='a = 10\\n')\n",
      "TokenInfo(type=2 (NUMBER), string='10', start=(4, 4), end=(4, 6), line='a = 10\\n')\n",
      "TokenInfo(type=4 (NEWLINE), string='\\n', start=(4, 6), end=(4, 7), line='a = 10\\n')\n",
      "TokenInfo(type=1 (NAME), string='b', start=(5, 0), end=(5, 1), line='b = 20\\n')\n",
      "TokenInfo(type=53 (OP), string='=', start=(5, 2), end=(5, 3), line='b = 20\\n')\n",
      "TokenInfo(type=2 (NUMBER), string='20', start=(5, 4), end=(5, 6), line='b = 20\\n')\n",
      "TokenInfo(type=4 (NEWLINE), string='\\n', start=(5, 6), end=(5, 7), line='b = 20\\n')\n",
      "TokenInfo(type=1 (NAME), string='c', start=(6, 0), end=(6, 1), line='c = func(a, b)\\n')\n",
      "TokenInfo(type=53 (OP), string='=', start=(6, 2), end=(6, 3), line='c = func(a, b)\\n')\n",
      "TokenInfo(type=1 (NAME), string='func', start=(6, 4), end=(6, 8), line='c = func(a, b)\\n')\n",
      "TokenInfo(type=53 (OP), string='(', start=(6, 8), end=(6, 9), line='c = func(a, b)\\n')\n",
      "TokenInfo(type=1 (NAME), string='a', start=(6, 9), end=(6, 10), line='c = func(a, b)\\n')\n",
      "TokenInfo(type=53 (OP), string=',', start=(6, 10), end=(6, 11), line='c = func(a, b)\\n')\n",
      "TokenInfo(type=1 (NAME), string='b', start=(6, 12), end=(6, 13), line='c = func(a, b)\\n')\n",
      "TokenInfo(type=53 (OP), string=')', start=(6, 13), end=(6, 14), line='c = func(a, b)\\n')\n",
      "TokenInfo(type=4 (NEWLINE), string='\\n', start=(6, 14), end=(6, 15), line='c = func(a, b)\\n')\n",
      "TokenInfo(type=1 (NAME), string='print', start=(7, 0), end=(7, 5), line='print(c)\\n')\n",
      "TokenInfo(type=53 (OP), string='(', start=(7, 5), end=(7, 6), line='print(c)\\n')\n",
      "TokenInfo(type=1 (NAME), string='c', start=(7, 6), end=(7, 7), line='print(c)\\n')\n",
      "TokenInfo(type=53 (OP), string=')', start=(7, 7), end=(7, 8), line='print(c)\\n')\n",
      "TokenInfo(type=4 (NEWLINE), string='\\n', start=(7, 8), end=(7, 9), line='print(c)\\n')\n",
      "TokenInfo(type=0 (ENDMARKER), string='', start=(8, 0), end=(8, 0), line='')\n"
     ]
    }
   ],
   "source": [
    "for token in g:\n",
    "    print(token)"
   ]
  },
  {
   "cell_type": "markdown",
   "metadata": {},
   "source": [
    "# AST(Abstract Syntax Tree)"
   ]
  },
  {
   "cell_type": "code",
   "execution_count": 22,
   "metadata": {},
   "outputs": [],
   "source": [
    "import ast"
   ]
  },
  {
   "cell_type": "code",
   "execution_count": 23,
   "metadata": {},
   "outputs": [],
   "source": [
    "node = ast.parse(s, 'test.py', 'exec')"
   ]
  },
  {
   "cell_type": "code",
   "execution_count": 25,
   "metadata": {},
   "outputs": [
    {
     "data": {
      "text/plain": [
       "<_ast.Module at 0x10536e160>"
      ]
     },
     "execution_count": 25,
     "metadata": {},
     "output_type": "execute_result"
    }
   ],
   "source": [
    "node"
   ]
  },
  {
   "cell_type": "code",
   "execution_count": 26,
   "metadata": {},
   "outputs": [
    {
     "data": {
      "text/plain": [
       "<generator object walk at 0x105368f48>"
      ]
     },
     "execution_count": 26,
     "metadata": {},
     "output_type": "execute_result"
    }
   ],
   "source": [
    "ast.walk(node)"
   ]
  },
  {
   "cell_type": "code",
   "execution_count": 34,
   "metadata": {},
   "outputs": [],
   "source": [
    "for node in g:\n",
    "    print(node)"
   ]
  },
  {
   "cell_type": "markdown",
   "metadata": {},
   "source": [
    "# symtable"
   ]
  },
  {
   "cell_type": "code",
   "execution_count": 28,
   "metadata": {},
   "outputs": [],
   "source": [
    "import symtable"
   ]
  },
  {
   "cell_type": "code",
   "execution_count": 29,
   "metadata": {},
   "outputs": [],
   "source": [
    "sym=symtable.symtable(s, 'test.py', 'exec')"
   ]
  },
  {
   "cell_type": "code",
   "execution_count": 30,
   "metadata": {},
   "outputs": [
    {
     "data": {
      "text/plain": [
       "'top'"
      ]
     },
     "execution_count": 30,
     "metadata": {},
     "output_type": "execute_result"
    }
   ],
   "source": [
    "sym.get_name()"
   ]
  },
  {
   "cell_type": "code",
   "execution_count": 31,
   "metadata": {},
   "outputs": [
    {
     "data": {
      "text/plain": [
       "[<symbol 'func'>, <symbol 'a'>, <symbol 'b'>, <symbol 'c'>, <symbol 'print'>]"
      ]
     },
     "execution_count": 31,
     "metadata": {},
     "output_type": "execute_result"
    }
   ],
   "source": [
    "sym.get_symbols()"
   ]
  },
  {
   "cell_type": "code",
   "execution_count": 35,
   "metadata": {},
   "outputs": [
    {
     "data": {
      "text/plain": [
       "True"
      ]
     },
     "execution_count": 35,
     "metadata": {},
     "output_type": "execute_result"
    }
   ],
   "source": [
    "sym.has_children()"
   ]
  },
  {
   "cell_type": "code",
   "execution_count": 37,
   "metadata": {},
   "outputs": [
    {
     "data": {
      "text/plain": [
       "[<Function SymbolTable for func in test.py>]"
      ]
     },
     "execution_count": 37,
     "metadata": {},
     "output_type": "execute_result"
    }
   ],
   "source": [
    "sym.get_children()"
   ]
  },
  {
   "cell_type": "code",
   "execution_count": 38,
   "metadata": {},
   "outputs": [],
   "source": [
    "func_sym=sym.get_children()[0]"
   ]
  },
  {
   "cell_type": "code",
   "execution_count": 40,
   "metadata": {},
   "outputs": [
    {
     "data": {
      "text/plain": [
       "[<symbol 'a'>, <symbol 'b'>]"
      ]
     },
     "execution_count": 40,
     "metadata": {},
     "output_type": "execute_result"
    }
   ],
   "source": [
    "func_sym.get_symbols()"
   ]
  },
  {
   "cell_type": "markdown",
   "metadata": {},
   "source": [
    "# python : source code -> bytecode"
   ]
  },
  {
   "cell_type": "code",
   "execution_count": 41,
   "metadata": {},
   "outputs": [],
   "source": [
    "import dis  #disassemble"
   ]
  },
  {
   "cell_type": "code",
   "execution_count": 42,
   "metadata": {},
   "outputs": [
    {
     "name": "stdout",
     "output_type": "stream",
     "text": [
      "  1           0 LOAD_CONST               0 (<code object func at 0x1053754b0, file \"<dis>\", line 1>)\n",
      "              2 LOAD_CONST               1 ('func')\n",
      "              4 MAKE_FUNCTION            0\n",
      "              6 STORE_NAME               0 (func)\n",
      "\n",
      "  4           8 LOAD_CONST               2 (10)\n",
      "             10 STORE_NAME               1 (a)\n",
      "\n",
      "  5          12 LOAD_CONST               3 (20)\n",
      "             14 STORE_NAME               2 (b)\n",
      "\n",
      "  6          16 LOAD_NAME                0 (func)\n",
      "             18 LOAD_NAME                1 (a)\n",
      "             20 LOAD_NAME                2 (b)\n",
      "             22 CALL_FUNCTION            2\n",
      "             24 STORE_NAME               3 (c)\n",
      "\n",
      "  7          26 LOAD_NAME                4 (print)\n",
      "             28 LOAD_NAME                3 (c)\n",
      "             30 CALL_FUNCTION            1\n",
      "             32 POP_TOP\n",
      "             34 LOAD_CONST               4 (None)\n",
      "             36 RETURN_VALUE\n",
      "\n",
      "Disassembly of <code object func at 0x1053754b0, file \"<dis>\", line 1>:\n",
      "  2           0 LOAD_FAST                0 (a)\n",
      "              2 LOAD_FAST                1 (b)\n",
      "              4 BINARY_ADD\n",
      "              6 RETURN_VALUE\n"
     ]
    }
   ],
   "source": [
    "dis.dis(s)"
   ]
  },
  {
   "cell_type": "code",
   "execution_count": 43,
   "metadata": {},
   "outputs": [
    {
     "data": {
      "text/plain": [
       "(<code object func at 0x1052c7300, file \"test.py\", line 1>,\n",
       " 'func',\n",
       " 10,\n",
       " 20,\n",
       " None)"
      ]
     },
     "execution_count": 43,
     "metadata": {},
     "output_type": "execute_result"
    }
   ],
   "source": [
    "code.co_consts"
   ]
  },
  {
   "cell_type": "code",
   "execution_count": null,
   "metadata": {},
   "outputs": [],
   "source": []
  }
 ],
 "metadata": {
  "kernelspec": {
   "display_name": "Python 3",
   "language": "python",
   "name": "python3"
  },
  "language_info": {
   "codemirror_mode": {
    "name": "ipython",
    "version": 3
   },
   "file_extension": ".py",
   "mimetype": "text/x-python",
   "name": "python",
   "nbconvert_exporter": "python",
   "pygments_lexer": "ipython3",
   "version": "3.7.0"
  }
 },
 "nbformat": 4,
 "nbformat_minor": 2
}
