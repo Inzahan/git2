{
 "cells": [
  {
   "cell_type": "code",
   "execution_count": 15,
   "metadata": {},
   "outputs": [],
   "source": [
    "def hanoi(num_tray, _from, _by, _to):\n",
    "    if num_tray==1:\n",
    "        print(\"{}번째 원반을 {}에서 {}로 이동\".format(num_tray, _from, _to))\n",
    "        return\n",
    "    hanoi(num_tray-1, _from, _to, _by)\n",
    "    print('{}번째 원반을 {}에서 {}로 이동'.format(num_tray, _from, _to))\n",
    "    hanoi(num_tray-1, _by, _from, _to)"
   ]
  },
  {
   "cell_type": "markdown",
   "metadata": {},
   "source": [
    "hanoi(1,  'A', 'B', 'C')\n",
    "-> 1번째 원반을 A에서 C로 이동\n",
    "hanoi(2,  'A', 'B', 'C')\n",
    "-> 1번째 원반을 A에서 B로 이동\n",
    "-> 2번째 원반을 A에서 C로 이동\n",
    "-> 1번째 원반을 B에서 C로 이동"
   ]
  },
  {
   "cell_type": "code",
   "execution_count": 19,
   "metadata": {},
   "outputs": [
    {
     "name": "stdout",
     "output_type": "stream",
     "text": [
      "쟁반숫자를 입력하삼(종료:0):6\n",
      "1번째 원반을 A에서 B로 이동\n",
      "2번째 원반을 A에서 C로 이동\n",
      "1번째 원반을 B에서 C로 이동\n",
      "3번째 원반을 A에서 B로 이동\n",
      "1번째 원반을 C에서 A로 이동\n",
      "2번째 원반을 C에서 B로 이동\n",
      "1번째 원반을 A에서 B로 이동\n",
      "4번째 원반을 A에서 C로 이동\n",
      "1번째 원반을 B에서 C로 이동\n",
      "2번째 원반을 B에서 A로 이동\n",
      "1번째 원반을 C에서 A로 이동\n",
      "3번째 원반을 B에서 C로 이동\n",
      "1번째 원반을 A에서 B로 이동\n",
      "2번째 원반을 A에서 C로 이동\n",
      "1번째 원반을 B에서 C로 이동\n",
      "5번째 원반을 A에서 B로 이동\n",
      "1번째 원반을 C에서 A로 이동\n",
      "2번째 원반을 C에서 B로 이동\n",
      "1번째 원반을 A에서 B로 이동\n",
      "3번째 원반을 C에서 A로 이동\n",
      "1번째 원반을 B에서 C로 이동\n",
      "2번째 원반을 B에서 A로 이동\n",
      "1번째 원반을 C에서 A로 이동\n",
      "4번째 원반을 C에서 B로 이동\n",
      "1번째 원반을 A에서 B로 이동\n",
      "2번째 원반을 A에서 C로 이동\n",
      "1번째 원반을 B에서 C로 이동\n",
      "3번째 원반을 A에서 B로 이동\n",
      "1번째 원반을 C에서 A로 이동\n",
      "2번째 원반을 C에서 B로 이동\n",
      "1번째 원반을 A에서 B로 이동\n",
      "6번째 원반을 A에서 C로 이동\n",
      "1번째 원반을 B에서 C로 이동\n",
      "2번째 원반을 B에서 A로 이동\n",
      "1번째 원반을 C에서 A로 이동\n",
      "3번째 원반을 B에서 C로 이동\n",
      "1번째 원반을 A에서 B로 이동\n",
      "2번째 원반을 A에서 C로 이동\n",
      "1번째 원반을 B에서 C로 이동\n",
      "4번째 원반을 B에서 A로 이동\n",
      "1번째 원반을 C에서 A로 이동\n",
      "2번째 원반을 C에서 B로 이동\n",
      "1번째 원반을 A에서 B로 이동\n",
      "3번째 원반을 C에서 A로 이동\n",
      "1번째 원반을 B에서 C로 이동\n",
      "2번째 원반을 B에서 A로 이동\n",
      "1번째 원반을 C에서 A로 이동\n",
      "5번째 원반을 B에서 C로 이동\n",
      "1번째 원반을 A에서 B로 이동\n",
      "2번째 원반을 A에서 C로 이동\n",
      "1번째 원반을 B에서 C로 이동\n",
      "3번째 원반을 A에서 B로 이동\n",
      "1번째 원반을 C에서 A로 이동\n",
      "2번째 원반을 C에서 B로 이동\n",
      "1번째 원반을 A에서 B로 이동\n",
      "4번째 원반을 A에서 C로 이동\n",
      "1번째 원반을 B에서 C로 이동\n",
      "2번째 원반을 B에서 A로 이동\n",
      "1번째 원반을 C에서 A로 이동\n",
      "3번째 원반을 B에서 C로 이동\n",
      "1번째 원반을 A에서 B로 이동\n",
      "2번째 원반을 A에서 C로 이동\n",
      "1번째 원반을 B에서 C로 이동\n",
      "쟁반숫자를 입력하삼(종료:0):0\n"
     ]
    }
   ],
   "source": [
    "while 1:\n",
    "    num_tray=int(input('쟁반숫자를 입력하삼(종료:0):'))\n",
    "    if num_tray==0:\n",
    "        break\n",
    "    hanoi(num_tray, 'A', 'B', 'C')"
   ]
  },
  {
   "cell_type": "code",
   "execution_count": null,
   "metadata": {},
   "outputs": [],
   "source": []
  }
 ],
 "metadata": {
  "kernelspec": {
   "display_name": "Python 3",
   "language": "python",
   "name": "python3"
  },
  "language_info": {
   "codemirror_mode": {
    "name": "ipython",
    "version": 3
   },
   "file_extension": ".py",
   "mimetype": "text/x-python",
   "name": "python",
   "nbconvert_exporter": "python",
   "pygments_lexer": "ipython3",
   "version": "3.7.0"
  }
 },
 "nbformat": 4,
 "nbformat_minor": 2
}
