{
 "cells": [
  {
   "cell_type": "markdown",
   "metadata": {},
   "source": [
    "### 같은 기능을 하는 알고리즘이라도\n",
    "### 성능이 얼마나 다를 수 있는지\n",
    "### 그 성능 차이를 객관적으로 나타낼 수 있는 지표\n",
    "### big o"
   ]
  },
  {
   "cell_type": "markdown",
   "metadata": {},
   "source": [
    "# linear search\n",
    "    - 알고리즘 성능 평가시 최악의 경우라도 몇번의 연산만에 가능한가?\n",
    "    - quick sort -> 평균의 경우"
   ]
  },
  {
   "cell_type": "code",
   "execution_count": 16,
   "metadata": {},
   "outputs": [],
   "source": [
    "li = [5, 6, 1, 4, 3]"
   ]
  },
  {
   "cell_type": "code",
   "execution_count": 17,
   "metadata": {},
   "outputs": [],
   "source": [
    "def linear_search(li, target):\n",
    "    for idx in range(len(li)):\n",
    "        if target==li[idx]:\n",
    "            return idx"
   ]
  },
  {
   "cell_type": "code",
   "execution_count": 18,
   "metadata": {},
   "outputs": [
    {
     "data": {
      "text/plain": [
       "3"
      ]
     },
     "execution_count": 18,
     "metadata": {},
     "output_type": "execute_result"
    }
   ],
   "source": [
    "linear_search(li, 4)"
   ]
  },
  {
   "cell_type": "markdown",
   "metadata": {},
   "source": [
    "# binary search"
   ]
  },
  {
   "cell_type": "code",
   "execution_count": 37,
   "metadata": {},
   "outputs": [],
   "source": [
    "li = [1, 3, 6, 8, 12]\n",
    "def binary_search(li, target):\n",
    "    start = 0\n",
    "    end = len(li) - 1\n",
    "    while start >= end:\n",
    "        mid = (start+end)//2\n",
    "        if target == mid:\n",
    "            return mid\n",
    "        elif target < mid:\n",
    "            start = mid + 1\n",
    "        else target > mid:\n",
    "            end = mid - 1\n",
    "        else:\n",
    "            return None"
   ]
  },
  {
   "cell_type": "code",
   "execution_count": 38,
   "metadata": {},
   "outputs": [
    {
     "name": "stdout",
     "output_type": "stream",
     "text": [
      "target 못찾음\n"
     ]
    }
   ],
   "source": [
    "res = binary_search(li, 6)\n",
    "if res:\n",
    "    print('target의 인덱스 : {}'.format(res))\n",
    "else:\n",
    "    print('target 못찾음')"
   ]
  },
  {
   "cell_type": "code",
   "execution_count": 32,
   "metadata": {},
   "outputs": [],
   "source": [
    "li = [1, 3, 6, 8, 12]\n",
    "def binary_search(li, target):\n",
    "    start = 0\n",
    "    end = len(li) - 1\n",
    "    while start <= end:\n",
    "        mid=(start+end)//2\n",
    "        if li[mid]==target:\n",
    "            return mid\n",
    "        elif li[mid] > target:\n",
    "            end = mid - 1\n",
    "        else:\n",
    "            start = mid + 1\n",
    "        \n",
    "    return None"
   ]
  },
  {
   "cell_type": "code",
   "execution_count": 33,
   "metadata": {},
   "outputs": [
    {
     "name": "stdout",
     "output_type": "stream",
     "text": [
      "target의 인덱스 : 2\n"
     ]
    }
   ],
   "source": [
    "res = binary_search(li, 6)\n",
    "if res:\n",
    "    print('target의 인덱스 : {}'.format(res))\n",
    "else:\n",
    "    print('target 못찾음')"
   ]
  },
  {
   "cell_type": "code",
   "execution_count": null,
   "metadata": {},
   "outputs": [],
   "source": []
  },
  {
   "cell_type": "code",
   "execution_count": null,
   "metadata": {},
   "outputs": [],
   "source": []
  },
  {
   "cell_type": "code",
   "execution_count": null,
   "metadata": {},
   "outputs": [],
   "source": []
  },
  {
   "cell_type": "code",
   "execution_count": null,
   "metadata": {},
   "outputs": [],
   "source": []
  },
  {
   "cell_type": "code",
   "execution_count": null,
   "metadata": {},
   "outputs": [],
   "source": []
  },
  {
   "cell_type": "code",
   "execution_count": null,
   "metadata": {},
   "outputs": [],
   "source": []
  },
  {
   "cell_type": "code",
   "execution_count": null,
   "metadata": {},
   "outputs": [],
   "source": []
  },
  {
   "cell_type": "code",
   "execution_count": null,
   "metadata": {},
   "outputs": [],
   "source": []
  }
 ],
 "metadata": {
  "kernelspec": {
   "display_name": "Python 3",
   "language": "python",
   "name": "python3"
  },
  "language_info": {
   "codemirror_mode": {
    "name": "ipython",
    "version": 3
   },
   "file_extension": ".py",
   "mimetype": "text/x-python",
   "name": "python",
   "nbconvert_exporter": "python",
   "pygments_lexer": "ipython3",
   "version": "3.7.0"
  }
 },
 "nbformat": 4,
 "nbformat_minor": 2
}
