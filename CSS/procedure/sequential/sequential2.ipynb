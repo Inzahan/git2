{
 "cells": [
  {
   "cell_type": "code",
   "execution_count": 1,
   "metadata": {},
   "outputs": [],
   "source": [
    "from openpyxl import load_workbook\n",
    "import math"
   ]
  },
  {
   "cell_type": "code",
   "execution_count": 2,
   "metadata": {},
   "outputs": [],
   "source": [
    "wb=load_workbook('class_1.xlsx')\n",
    "ws=wb.active\n",
    "g=ws.rows\n",
    "raw_data={}\n",
    "for name_cell, score_cell in g:\n",
    "    raw_data[name_cell.value]=score_cell.value"
   ]
  },
  {
   "cell_type": "code",
   "execution_count": 18,
   "metadata": {},
   "outputs": [],
   "source": [
    "scores=list(raw_data.values())"
   ]
  },
  {
   "cell_type": "code",
   "execution_count": 20,
   "metadata": {},
   "outputs": [],
   "source": [
    "s=0.0\n",
    "for score in scores:\n",
    "    s+=score"
   ]
  },
  {
   "cell_type": "code",
   "execution_count": 21,
   "metadata": {},
   "outputs": [],
   "source": [
    "avrg=s/len(scores)"
   ]
  },
  {
   "cell_type": "code",
   "execution_count": 25,
   "metadata": {},
   "outputs": [],
   "source": [
    "s=0.0\n",
    "for score in scores:\n",
    "    s+=(score-avrg)**2\n",
    "variance=round(s/len(scores), 1)"
   ]
  },
  {
   "cell_type": "code",
   "execution_count": 28,
   "metadata": {},
   "outputs": [],
   "source": [
    "std_dev=round(math.sqrt(variance), 1)"
   ]
  },
  {
   "cell_type": "code",
   "execution_count": 30,
   "metadata": {},
   "outputs": [
    {
     "name": "stdout",
     "output_type": "stream",
     "text": [
      "평균:51.5, 분산:1240.2, 표준편차:35.2\n"
     ]
    }
   ],
   "source": [
    "print('평균:{}, 분산:{}, 표준편차:{}'.format(avrg, variance, std_dev))"
   ]
  },
  {
   "cell_type": "code",
   "execution_count": 31,
   "metadata": {},
   "outputs": [
    {
     "name": "stdout",
     "output_type": "stream",
     "text": [
      "성적은 평균 이상이지만 학생들의 실력 차이가 크다. 주의 요망!\n"
     ]
    }
   ],
   "source": [
    "if avrg < 50 and std_dev > 20:\n",
    "    print('성적이 너무 저조하고 학생들의 실력 차이가 너무 크다.')\n",
    "elif avrg > 50 and std_dev > 20:\n",
    "    print('성적은 평균 이상이지만 학생들의 실력 차이가 크다. 주의 요망!')\n",
    "elif avrg < 50 and std_dev < 20:\n",
    "    print('학생들의 실력 차이는 크지 않지만 성적이 너무 저조하다. 주의 요망!')\n",
    "elif avrg > 50 and std_dev < 20:\n",
    "    print('성적도 평균 이상이고 학생들의 실력 차이도 크지 않다.')"
   ]
  },
  {
   "cell_type": "code",
   "execution_count": null,
   "metadata": {},
   "outputs": [],
   "source": []
  }
 ],
 "metadata": {
  "kernelspec": {
   "display_name": "Python 3",
   "language": "python",
   "name": "python3"
  },
  "language_info": {
   "codemirror_mode": {
    "name": "ipython",
    "version": 3
   },
   "file_extension": ".py",
   "mimetype": "text/x-python",
   "name": "python",
   "nbconvert_exporter": "python",
   "pygments_lexer": "ipython3",
   "version": "3.6.1"
  }
 },
 "nbformat": 4,
 "nbformat_minor": 2
}
