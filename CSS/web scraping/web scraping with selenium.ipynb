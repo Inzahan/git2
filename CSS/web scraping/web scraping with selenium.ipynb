{
 "cells": [
  {
   "cell_type": "code",
   "execution_count": 14,
   "metadata": {},
   "outputs": [],
   "source": [
    "import selenium\n",
    "from selenium import webdriver"
   ]
  },
  {
   "cell_type": "code",
   "execution_count": 15,
   "metadata": {},
   "outputs": [],
   "source": [
    "ch_driver = webdriver.Chrome('/Users/yang/Documents/chromedriver')"
   ]
  },
  {
   "cell_type": "code",
   "execution_count": 16,
   "metadata": {},
   "outputs": [],
   "source": [
    "ch_driver.get('https://www.google.com')"
   ]
  },
  {
   "cell_type": "code",
   "execution_count": 29,
   "metadata": {},
   "outputs": [],
   "source": [
    "ch_driver.get('https://nid.naver.com/nidlogin.login')"
   ]
  },
  {
   "cell_type": "code",
   "execution_count": 30,
   "metadata": {},
   "outputs": [],
   "source": [
    "user_id = 'ywguys'\n",
    "user_pw = '351684okok!'"
   ]
  },
  {
   "cell_type": "code",
   "execution_count": 31,
   "metadata": {},
   "outputs": [],
   "source": [
    "id_input = ch_driver.find_element_by_id('id')"
   ]
  },
  {
   "cell_type": "code",
   "execution_count": 32,
   "metadata": {},
   "outputs": [],
   "source": [
    "id_input.send_keys(user_id)"
   ]
  },
  {
   "cell_type": "code",
   "execution_count": 36,
   "metadata": {},
   "outputs": [],
   "source": [
    "pw_input = ch_driver.find_element_by_id('pw')\n",
    "pw_input.send_keys(user_pw)"
   ]
  },
  {
   "cell_type": "code",
   "execution_count": 39,
   "metadata": {},
   "outputs": [],
   "source": [
    "submit_button = ch_driver.find_elements_by_class_name('btn_global')[0]"
   ]
  },
  {
   "cell_type": "code",
   "execution_count": 40,
   "metadata": {},
   "outputs": [],
   "source": [
    "submit_button.click()"
   ]
  },
  {
   "cell_type": "code",
   "execution_count": 38,
   "metadata": {},
   "outputs": [],
   "source": [
    "ch_driver.find_element_by_id('chptcha').send_keys('79E3')"
   ]
  },
  {
   "cell_type": "code",
   "execution_count": 41,
   "metadata": {},
   "outputs": [],
   "source": [
    "ch_driver.get('https://cafe.naver.com/joonggonara')"
   ]
  },
  {
   "cell_type": "code",
   "execution_count": 42,
   "metadata": {},
   "outputs": [],
   "source": [
    "search_term = \"아이패드\"\n",
    "ch_driver.find_element_by_id(\"topLayerQueryInput\").send_keys(search_term)\n",
    "\n",
    "ch_driver.execute_script(\"searchBoard();\")"
   ]
  },
  {
   "cell_type": "code",
   "execution_count": 43,
   "metadata": {},
   "outputs": [],
   "source": [
    "result_frame = ch_driver.find_element_by_id(\"cafe_main\")\n",
    "ch_driver.switch_to_frame(result_frame)"
   ]
  },
  {
   "cell_type": "code",
   "execution_count": 44,
   "metadata": {},
   "outputs": [],
   "source": [
    "result_path = '//*[@id=\"main-area\"]/div[7]/form/table/tbody/tr/td[2]/span/span/a'"
   ]
  },
  {
   "cell_type": "code",
   "execution_count": 48,
   "metadata": {},
   "outputs": [
    {
     "data": {
      "text/plain": [
       "[{'title': '아이패드 프로 12.9 셀룰러 2세대 512기가 골드',\n",
       "  'link': 'https://cafe.naver.com/ArticleRead.nhn?clubid=10050146&page=1&inCafeSearch=true&searchBy=0&query=%BE%C6%C0%CC%C6%D0%B5%E5&includeAll=&exclude=&include=&exact=&searchdate=all&media=0&sortBy=date&articleid=504235255&referrerAllArticles=true'},\n",
       " {'title': '▶▷▶▷▶▷각종 아이폰 삼성폰 전문적으로 매입 삽니다◀◁◀◁◀◁◀ 서울 경기 수원 인천 아이폰6 6플러스 6 플러스 다 삽니다. 게신곳에서 매입합니다',\n",
       "  'link': 'https://cafe.naver.com/ArticleRead.nhn?clubid=10050146&page=1&inCafeSearch=true&searchBy=0&query=%BE%C6%C0%CC%C6%D0%B5%E5&includeAll=&exclude=&include=&exact=&searchdate=all&media=0&sortBy=date&articleid=504235196&referrerAllArticles=true'},\n",
       " {'title': '[미개봉]아이패드프로10.5 로즈골드 512g 셀룰러 팝니다.',\n",
       "  'link': 'https://cafe.naver.com/ArticleRead.nhn?clubid=10050146&page=1&inCafeSearch=true&searchBy=0&query=%BE%C6%C0%CC%C6%D0%B5%E5&includeAll=&exclude=&include=&exact=&searchdate=all&media=0&sortBy=date&articleid=504235130&referrerAllArticles=true'},\n",
       " {'title': 'OA 드럼스피커 딥우드 8만원 상태 s',\n",
       "  'link': 'https://cafe.naver.com/ArticleRead.nhn?clubid=10050146&page=1&inCafeSearch=true&searchBy=0&query=%BE%C6%C0%CC%C6%D0%B5%E5&includeAll=&exclude=&include=&exact=&searchdate=all&media=0&sortBy=date&articleid=504235034&referrerAllArticles=true'},\n",
       " {'title': '아이패드 프로 10.5 스그 50만원!',\n",
       "  'link': 'https://cafe.naver.com/ArticleRead.nhn?clubid=10050146&page=1&inCafeSearch=true&searchBy=0&query=%BE%C6%C0%CC%C6%D0%B5%E5&includeAll=&exclude=&include=&exact=&searchdate=all&media=0&sortBy=date&articleid=504235010&referrerAllArticles=true'},\n",
       " {'title': '대구) 아이패드4세대 32g (고장, 부품용) 판매',\n",
       "  'link': 'https://cafe.naver.com/ArticleRead.nhn?clubid=10050146&page=1&inCafeSearch=true&searchBy=0&query=%BE%C6%C0%CC%C6%D0%B5%E5&includeAll=&exclude=&include=&exact=&searchdate=all&media=0&sortBy=date&articleid=504234666&referrerAllArticles=true'},\n",
       " {'title': '(새제품) 9.7 뉴아이패드 2018 6세대 wifi / 32GB (스페이스그레이/강남역 상록수역)',\n",
       "  'link': 'https://cafe.naver.com/ArticleRead.nhn?clubid=10050146&page=1&inCafeSearch=true&searchBy=0&query=%BE%C6%C0%CC%C6%D0%B5%E5&includeAll=&exclude=&include=&exact=&searchdate=all&media=0&sortBy=date&articleid=504234643&referrerAllArticles=true'},\n",
       " {'title': '▶◁▶◁ 중고폰 팔고 싶지? 서울 경기 인천 수원 각종 아이폰 삼성폰 엘지폰 다 삽니다 매입합니다 ▶◁▶◁',\n",
       "  'link': 'https://cafe.naver.com/ArticleRead.nhn?clubid=10050146&page=1&inCafeSearch=true&searchBy=0&query=%BE%C6%C0%CC%C6%D0%B5%E5&includeAll=&exclude=&include=&exact=&searchdate=all&media=0&sortBy=date&articleid=504234632&referrerAllArticles=true'},\n",
       " {'title': 'wii 2인 풀셋 25만원 외장하드 게임 가득 전원만 연결하시면 됩니다',\n",
       "  'link': 'https://cafe.naver.com/ArticleRead.nhn?clubid=10050146&page=1&inCafeSearch=true&searchBy=0&query=%BE%C6%C0%CC%C6%D0%B5%E5&includeAll=&exclude=&include=&exact=&searchdate=all&media=0&sortBy=date&articleid=504234621&referrerAllArticles=true'},\n",
       " {'title': '아이패드 프로 9.7 128g wifi + 스마트 키보드 + 애플정품 뒷면 케이스 팝니다.',\n",
       "  'link': 'https://cafe.naver.com/ArticleRead.nhn?clubid=10050146&page=1&inCafeSearch=true&searchBy=0&query=%BE%C6%C0%CC%C6%D0%B5%E5&includeAll=&exclude=&include=&exact=&searchdate=all&media=0&sortBy=date&articleid=504234517&referrerAllArticles=true'},\n",
       " {'title': '애플 정품 아이폰 라이트닝 USB 충전기 케이블 팝니다!! 100% 미개봉',\n",
       "  'link': 'https://cafe.naver.com/ArticleRead.nhn?clubid=10050146&page=1&inCafeSearch=true&searchBy=0&query=%BE%C6%C0%CC%C6%D0%B5%E5&includeAll=&exclude=&include=&exact=&searchdate=all&media=0&sortBy=date&articleid=504233784&referrerAllArticles=true'},\n",
       " {'title': '◑◑◑◑◑◑◑아이폰 , 삼성폰 , 엘지폰 , 아이패드 , 갤럭시 탭 다 삽니다 ◑◑◑◑◑◑◑◑ 다 매입합니다 서울 경기 인천 수원 전역 연락 주세요',\n",
       "  'link': 'https://cafe.naver.com/ArticleRead.nhn?clubid=10050146&page=1&inCafeSearch=true&searchBy=0&query=%BE%C6%C0%CC%C6%D0%B5%E5&includeAll=&exclude=&include=&exact=&searchdate=all&media=0&sortBy=date&articleid=504233699&referrerAllArticles=true'},\n",
       " {'title': '아이패드2(A1395) 작동확인불가 파손품 부품용 판매 - 2대 일괄 3만원',\n",
       "  'link': 'https://cafe.naver.com/ArticleRead.nhn?clubid=10050146&page=1&inCafeSearch=true&searchBy=0&query=%BE%C6%C0%CC%C6%D0%B5%E5&includeAll=&exclude=&include=&exact=&searchdate=all&media=0&sortBy=date&articleid=504233669&referrerAllArticles=true'},\n",
       " {'title': '애플맥북프로,HP울트라북,MS서피스프로판매및교환합니다/맥북,노트북,울트라북,태블릿PC구매합니다',\n",
       "  'link': 'https://cafe.naver.com/ArticleRead.nhn?clubid=10050146&page=1&inCafeSearch=true&searchBy=0&query=%BE%C6%C0%CC%C6%D0%B5%E5&includeAll=&exclude=&include=&exact=&searchdate=all&media=0&sortBy=date&articleid=504233475&referrerAllArticles=true'},\n",
       " {'title': '애플아이폰X,아이폰6S,아이폰7+판매및교환원합니다/애플아이폰,삼성갤럭시등구매합니다',\n",
       "  'link': 'https://cafe.naver.com/ArticleRead.nhn?clubid=10050146&page=1&inCafeSearch=true&searchBy=0&query=%BE%C6%C0%CC%C6%D0%B5%E5&includeAll=&exclude=&include=&exact=&searchdate=all&media=0&sortBy=date&articleid=504233397&referrerAllArticles=true'}]"
      ]
     },
     "execution_count": 48,
     "metadata": {},
     "output_type": "execute_result"
    }
   ],
   "source": [
    "results = ch_driver.find_elements_by_xpath(result_path)\n",
    "result_list = []\n",
    "for item in results:\n",
    "    title = item.text\n",
    "    link = item.get_attribute('href')\n",
    "    result_dict = {}\n",
    "    result_dict['title'] = title\n",
    "    result_dict['link'] = link\n",
    "    result_list.append(result_dict)\n",
    "    \n",
    "result_list"
   ]
  },
  {
   "cell_type": "code",
   "execution_count": 52,
   "metadata": {},
   "outputs": [],
   "source": [
    "ch_driver.get('https://mail.naver.com/login?url=http%3A%2F%2Fmail.naver.com%2F')"
   ]
  },
  {
   "cell_type": "code",
   "execution_count": 61,
   "metadata": {},
   "outputs": [],
   "source": [
    "result_xpath = '//*[@id=\"cont_flex_area\"]/div[3]'"
   ]
  },
  {
   "cell_type": "code",
   "execution_count": 62,
   "metadata": {},
   "outputs": [
    {
     "data": {
      "text/plain": [
       "[{'title': \"Wayfair\\nIncoming: C L O S E O U T\\n11:22\\n자비스\\n08/23(목) (주) 대상프라퍼티앤대부 데일리 리포트(beta)입니다.\\n11:16\\n데일리 로켓펀치\\n뉴스 6, 전문자료 2, 투자 1, 새 기업 4, 새 제품 3, 채용 52, 프로필 1개를 보내드립니다.\\n10:05\\n제일좋은전람\\n[ 제일좋은전람 한 주 창업이슈 ] 이번주 호남 최대규모 광주전남 프랜차이즈 창업박람회에 초대합니다.\\n09:20\\nX-Mirage\\nWALTR 2 (52% off)\\n08:03\\nBehance\\nNew Activity From Your Creative Network (8/22/2018)\\n07:15\\nSNEK\\n해법 안보이는 자영업자 대책 최저임금 갈등 장기화 외 다양한 SNEK 투자 정보가 도착하였습니다 180823\\n06:46\\nSilvercar\\nWe're opening a new location!  Book now and save up to 30%\\n02:53\\nHackerRank Team\\nDay 12: Outstanding Inheritance\\n01:25\\n창업신문\\n(광고) 창업을 생각중이라면 추천하고 싶은 성공창업을 위한 무점포1인창업과 창업정보 및 다양한 창업아이템 무료시식 및 무료창업설명회\\n08-22 23:44\\n네이버페이\\n[네이버페이]구매하신 제품의 자동구매확정 안내입니다\\n08-22 21:59\\nStackSocial\\nMake Money Creating Games Using the #1 Platform, Unity!\\n08-22 21:15\\n꾹캠퍼스\\n(광고)꾹캠퍼스 8월 교육과정 안내\\n08-22 21:00\\n라우드소싱\\n(광고) [라우드소싱 뉴스레터] 개성있는 어플 디자인이 대세, 감성 고객을 사로잡은 사례!\\n08-22 18:08\\n비욘드플랫폼서비스\\n(광고) 비욘드펀드 투자하고 공짜 해외여행 가즈아! :airplane:\\n08-22 14:02\\n12\\n3\\n4\\n5\\n6\\n7\\n8\\n9\\n10\",\n",
       "  'link': None}]"
      ]
     },
     "execution_count": 62,
     "metadata": {},
     "output_type": "execute_result"
    }
   ],
   "source": [
    "resultss = ch_driver.find_elements_by_xpath(result_xpath)\n",
    "result_list = []\n",
    "for item in resultss:\n",
    "    title = item.text\n",
    "    link = item.get_attribute('href')\n",
    "    result_dict = {}\n",
    "    result_dict['title'] = title\n",
    "    result_dict['link'] = link\n",
    "    result_list.append(result_dict)\n",
    "    \n",
    "result_list"
   ]
  },
  {
   "cell_type": "code",
   "execution_count": 63,
   "metadata": {},
   "outputs": [],
   "source": [
    "ch_driver.get('https://mail.naver.com/')"
   ]
  },
  {
   "cell_type": "code",
   "execution_count": 68,
   "metadata": {},
   "outputs": [
    {
     "ename": "AttributeError",
     "evalue": "'list' object has no attribute 'get_attribute'",
     "output_type": "error",
     "traceback": [
      "\u001b[0;31m---------------------------------------------------------------------------\u001b[0m",
      "\u001b[0;31mAttributeError\u001b[0m                            Traceback (most recent call last)",
      "\u001b[0;32m<ipython-input-68-d01fe3d376d4>\u001b[0m in \u001b[0;36m<module>\u001b[0;34m()\u001b[0m\n\u001b[1;32m      3\u001b[0m \u001b[0;32mfor\u001b[0m \u001b[0mitem\u001b[0m \u001b[0;32min\u001b[0m \u001b[0mmail_items\u001b[0m\u001b[0;34m:\u001b[0m\u001b[0;34m\u001b[0m\u001b[0m\n\u001b[1;32m      4\u001b[0m     \u001b[0mtitle\u001b[0m \u001b[0;34m=\u001b[0m \u001b[0mitem\u001b[0m\u001b[0;34m.\u001b[0m\u001b[0mtext\u001b[0m\u001b[0;34m\u001b[0m\u001b[0m\n\u001b[0;32m----> 5\u001b[0;31m     \u001b[0mlink\u001b[0m \u001b[0;34m=\u001b[0m \u001b[0mch_driver\u001b[0m\u001b[0;34m.\u001b[0m\u001b[0mfind_elements_by_tag_name\u001b[0m\u001b[0;34m(\u001b[0m\u001b[0;34m'a'\u001b[0m\u001b[0;34m)\u001b[0m\u001b[0;34m.\u001b[0m\u001b[0mget_attribute\u001b[0m\u001b[0;34m(\u001b[0m\u001b[0;34m'href'\u001b[0m\u001b[0;34m)\u001b[0m\u001b[0;34m\u001b[0m\u001b[0m\n\u001b[0m\u001b[1;32m      6\u001b[0m     \u001b[0mprint\u001b[0m\u001b[0;34m(\u001b[0m\u001b[0mtitle\u001b[0m\u001b[0;34m,\u001b[0m \u001b[0mlink\u001b[0m\u001b[0;34m)\u001b[0m\u001b[0;34m\u001b[0m\u001b[0m\n",
      "\u001b[0;31mAttributeError\u001b[0m: 'list' object has no attribute 'get_attribute'"
     ]
    }
   ],
   "source": [
    "link_path = '//*[@id=\"list_for_view\"]/ol/li[2]/div/div[2]/a[1]/span/strong'\n",
    "mail_items = ch_driver.find_elements_by_xpath(result_xpath)\n",
    "for item in mail_items:\n",
    "    title = item.text\n",
    "    link = ch_driver.find_elements_by_tag_name('a').get_attribute('href')\n",
    "    print(title, link)"
   ]
  },
  {
   "cell_type": "code",
   "execution_count": null,
   "metadata": {},
   "outputs": [],
   "source": [
    "ch_driver.get('https://mail.naver.com/login?url=http%3A%2F%2Fmail.naver.com%2F')"
   ]
  },
  {
   "cell_type": "code",
   "execution_count": null,
   "metadata": {},
   "outputs": [],
   "source": [
    "result_xpath = '//*[@id=\"cont_flex_area\"]/div[3]'"
   ]
  },
  {
   "cell_type": "code",
   "execution_count": 69,
   "metadata": {},
   "outputs": [
    {
     "name": "stdout",
     "output_type": "stream",
     "text": [
      "KOCCA 한국콘텐츠..\n",
      "[한국콘텐츠진흥원] 2018년 콘텐츠 스텝업 5과정 교육생 모집 <차세대 핵심산업 드론 기술을 활용한 영상 콘텐츠 제작 실습>\n",
      "15:08\n",
      "Wayfair\n",
      "Incoming: C L O S E O U T\n",
      "11:22\n",
      "자비스\n",
      "08/23(목) (주) 대상프라퍼티앤대부 데일리 리포트(beta)입니다.\n",
      "11:16\n",
      "데일리 로켓펀치\n",
      "뉴스 6, 전문자료 2, 투자 1, 새 기업 4, 새 제품 3, 채용 52, 프로필 1개를 보내드립니다.\n",
      "10:05\n",
      "제일좋은전람\n",
      "[ 제일좋은전람 한 주 창업이슈 ] 이번주 호남 최대규모 광주전남 프랜차이즈 창업박람회에 초대합니다.\n",
      "09:20\n",
      "X-Mirage\n",
      "WALTR 2 (52% off)\n",
      "08:03\n",
      "Behance\n",
      "New Activity From Your Creative Network (8/22/2018)\n",
      "07:15\n",
      "SNEK\n",
      "해법 안보이는 자영업자 대책 최저임금 갈등 장기화 외 다양한 SNEK 투자 정보가 도착하였습니다 180823\n",
      "06:46\n",
      "Silvercar\n",
      "We're opening a new location!  Book now and save up to 30%\n",
      "02:53\n",
      "HackerRank Team\n",
      "Day 12: Outstanding Inheritance\n",
      "01:25\n",
      "창업신문\n",
      "(광고) 창업을 생각중이라면 추천하고 싶은 성공창업을 위한 무점포1인창업과 창업정보 및 다양한 창업아이템 무료시식 및 무료창업설명회\n",
      "08-22 23:44\n",
      "네이버페이\n",
      "[네이버페이]구매하신 제품의 자동구매확정 안내입니다\n",
      "08-22 21:59\n",
      "StackSocial\n",
      "Make Money Creating Games Using the #1 Platform, Unity!\n",
      "08-22 21:15\n",
      "꾹캠퍼스\n",
      "(광고)꾹캠퍼스 8월 교육과정 안내\n",
      "08-22 21:00\n",
      "라우드소싱\n",
      "(광고) [라우드소싱 뉴스레터] 개성있는 어플 디자인이 대세, 감성 고객을 사로잡은 사례!\n",
      "08-22 18:08\n",
      "12\n",
      "3\n",
      "4\n",
      "5\n",
      "6\n",
      "7\n",
      "8\n",
      "9\n",
      "10 None\n"
     ]
    }
   ],
   "source": [
    "resultss = ch_driver.find_elements_by_xpath(result_xpath)\n",
    "result_list = []\n",
    "for item in resultss:\n",
    "    title = item.text\n",
    "    link = item.get_attribute('href')\n",
    "    print(title, link)\n"
   ]
  },
  {
   "cell_type": "code",
   "execution_count": null,
   "metadata": {},
   "outputs": [],
   "source": []
  }
 ],
 "metadata": {
  "kernelspec": {
   "display_name": "Python 3",
   "language": "python",
   "name": "python3"
  },
  "language_info": {
   "codemirror_mode": {
    "name": "ipython",
    "version": 3
   },
   "file_extension": ".py",
   "mimetype": "text/x-python",
   "name": "python",
   "nbconvert_exporter": "python",
   "pygments_lexer": "ipython3",
   "version": "3.7.0"
  }
 },
 "nbformat": 4,
 "nbformat_minor": 2
}
